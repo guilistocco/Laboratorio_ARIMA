{
 "cells": [
  {
   "cell_type": "markdown",
   "metadata": {},
   "source": [
    "# Bem vindo ao Laboratório ARIMA "
   ]
  },
  {
   "cell_type": "markdown",
   "metadata": {},
   "source": [
    "Comece conhecendo a interface do Jupyter Notebook disponível em \"Help/User Interface Tour\"\n",
    "\n",
    "Para uma introdução básica ao funcionamento do Jupiter Notebook [clique aqui](https://letscode-academy.com/blog/introducao-ao-jupyter-notebook/#abrindo) (pule a parte de instalação, 5 minutos de leitura bastam)\n",
    "\n",
    "Caso queira se aprofundar um pouco mais, [clique aqui (en-US)](https://mybinder.org/v2/gh/jvns/pandas-cookbook/master), espere página carregar e dirija-se ao 'CookBook'; ou ainda [aqui (pt-BR)](https://www.digitalocean.com/community/tutorials/como-configurar-o-jupyter-notebook-com-python-3-no-ubuntu-18-04-pt)\n"
   ]
  },
  {
   "cell_type": "markdown",
   "metadata": {},
   "source": [
    "É comum, antes de iniciar o código, declarar todas as bibliotecas que serão utilizadas, para informar à outros programadores quais os pré-requisitos para o programa.\n",
    "Nesse caso, utilizando o Binder, não há necessidade de instalar nenhuma delas."
   ]
  },
  {
   "cell_type": "code",
   "execution_count": 2,
   "metadata": {},
   "outputs": [],
   "source": [
    "import pandas as pd\n",
    "import numpy as np\n",
    "import matplotlib.pyplot as plt\n",
    "from statsmodels.tsa.arima_model import ARIMA\n",
    "from statsmodels.tsa.stattools import adfuller\n",
    "from statsmodels.graphics.tsaplots import plot_acf, plot_pacf\n",
    "import matplotlib.dates as mdates"
   ]
  },
  {
   "cell_type": "markdown",
   "metadata": {},
   "source": [
    "- **Numpy**: utilizada para efetuar todo tipo de cáculo matemático, da mais simples divisão com valor inteiro, até multiplicação de matrizes, passando pelas integrais\n",
    "- **Pandas**: consagrada por importar arquivos csv, excel, html, entre outros; é baseado no Numpy e faz operações vetorizadas \n",
    "- **Matplotlib**: é capaz de fazer gráficos com poucas linhas, e permite a alteração de diversas variáveis de estilo que o excel, por exemplo, não permite \n",
    "- **Statsmodel**: no contexto estatístico, apresentar modelos já preparados para aplicação. Com documentação farta nos permite, por exemplo, usar o ARIMA"
   ]
  },
  {
   "cell_type": "markdown",
   "metadata": {},
   "source": [
    "## Acessando dados de um diretório\n",
    "\n",
    "O diretório é a localização dentro do computador (como uma pasta) que guarda os arquivos necessários para o código funcionar assim como ele próprio. Nesse caso, o diretório se parece com esse: \n",
    "![](imagens/repositorio.png)\n"
   ]
  },
  {
   "cell_type": "markdown",
   "metadata": {},
   "source": [
    " A forma de acessar esses arquivos é usando **funções** como a `plt.plot()`\n",
    "\n",
    "![](imagens/funcao.jpg)\n",
    "\n",
    "Nesse exemplo temos:\n",
    "- A biblioteca que contém a função (`plt`)\n",
    "- A própria função (`plot()`)\n",
    "- Os argumentos posicionais, que são necessários para que a função opere corretamente, têm que ser postos nessa ordem\n",
    "- Argumentos de palavra-chave (keyword arguments) são opcionais e tem convenções vindas da própria biblioteca, como cores, dimensões e tipo de gráfico\n",
    "\n",
    "A seguir, usaremos `pd.read_csv()` para abrir os dados dos radares, mas antes, vamos olhar como um csv ( _Comma Separated Values_ ) ou seja, um arquivo de valores separados por vírgula, realmente é:\n",
    "\n",
    "![](imagens/csv.jpg)"
   ]
  },
  {
   "cell_type": "code",
   "execution_count": 3,
   "metadata": {},
   "outputs": [
    {
     "data": {
      "text/html": [
       "<div>\n",
       "<style scoped>\n",
       "    .dataframe tbody tr th:only-of-type {\n",
       "        vertical-align: middle;\n",
       "    }\n",
       "\n",
       "    .dataframe tbody tr th {\n",
       "        vertical-align: top;\n",
       "    }\n",
       "\n",
       "    .dataframe thead th {\n",
       "        text-align: right;\n",
       "    }\n",
       "</style>\n",
       "<table border=\"1\" class=\"dataframe\">\n",
       "  <thead>\n",
       "    <tr style=\"text-align: right;\">\n",
       "      <th></th>\n",
       "      <th>Unnamed: 0</th>\n",
       "      <th>Data</th>\n",
       "      <th>Hora</th>\n",
       "      <th>Local</th>\n",
       "      <th>Faixa</th>\n",
       "      <th>EspecieVeiculo</th>\n",
       "      <th>ClasseVeiculo</th>\n",
       "      <th>Comprimento(m)</th>\n",
       "      <th>VelocidadePontual</th>\n",
       "      <th>Descricao</th>\n",
       "      <th>Latitude</th>\n",
       "      <th>Longitude</th>\n",
       "    </tr>\n",
       "  </thead>\n",
       "  <tbody>\n",
       "    <tr>\n",
       "      <th>0</th>\n",
       "      <td>0</td>\n",
       "      <td>20180508</td>\n",
       "      <td>235603</td>\n",
       "      <td>4326</td>\n",
       "      <td>5</td>\n",
       "      <td>1.0</td>\n",
       "      <td>0.0</td>\n",
       "      <td>3.2</td>\n",
       "      <td>142.0</td>\n",
       "      <td>Av. Alcântara Machado (Centro/Bairro) a mais 1...</td>\n",
       "      <td>-23.549602</td>\n",
       "      <td>-46.605001</td>\n",
       "    </tr>\n",
       "    <tr>\n",
       "      <th>1</th>\n",
       "      <td>1</td>\n",
       "      <td>20180508</td>\n",
       "      <td>235607</td>\n",
       "      <td>4326</td>\n",
       "      <td>4</td>\n",
       "      <td>0.0</td>\n",
       "      <td>0.0</td>\n",
       "      <td>0.0</td>\n",
       "      <td>0.0</td>\n",
       "      <td>Av. Alcântara Machado (Centro/Bairro) a mais 1...</td>\n",
       "      <td>-23.549602</td>\n",
       "      <td>-46.605001</td>\n",
       "    </tr>\n",
       "    <tr>\n",
       "      <th>2</th>\n",
       "      <td>2</td>\n",
       "      <td>20180508</td>\n",
       "      <td>235607</td>\n",
       "      <td>4326</td>\n",
       "      <td>4</td>\n",
       "      <td>0.0</td>\n",
       "      <td>0.0</td>\n",
       "      <td>0.0</td>\n",
       "      <td>0.0</td>\n",
       "      <td>Av. Alcântara Machado (Centro/Bairro) a mais 1...</td>\n",
       "      <td>-23.549602</td>\n",
       "      <td>-46.605001</td>\n",
       "    </tr>\n",
       "    <tr>\n",
       "      <th>3</th>\n",
       "      <td>3</td>\n",
       "      <td>20180508</td>\n",
       "      <td>235608</td>\n",
       "      <td>4326</td>\n",
       "      <td>5</td>\n",
       "      <td>0.0</td>\n",
       "      <td>1.0</td>\n",
       "      <td>19.1</td>\n",
       "      <td>119.0</td>\n",
       "      <td>Av. Alcântara Machado (Centro/Bairro) a mais 1...</td>\n",
       "      <td>-23.549602</td>\n",
       "      <td>-46.605001</td>\n",
       "    </tr>\n",
       "    <tr>\n",
       "      <th>4</th>\n",
       "      <td>4</td>\n",
       "      <td>20180508</td>\n",
       "      <td>235643</td>\n",
       "      <td>4326</td>\n",
       "      <td>2</td>\n",
       "      <td>1.0</td>\n",
       "      <td>0.0</td>\n",
       "      <td>3.2</td>\n",
       "      <td>42.0</td>\n",
       "      <td>Av. Alcântara Machado (Centro/Bairro) a mais 1...</td>\n",
       "      <td>-23.549602</td>\n",
       "      <td>-46.605001</td>\n",
       "    </tr>\n",
       "  </tbody>\n",
       "</table>\n",
       "</div>"
      ],
      "text/plain": [
       "   Unnamed: 0      Data    Hora  Local  Faixa  EspecieVeiculo  ClasseVeiculo  \\\n",
       "0           0  20180508  235603   4326      5             1.0            0.0   \n",
       "1           1  20180508  235607   4326      4             0.0            0.0   \n",
       "2           2  20180508  235607   4326      4             0.0            0.0   \n",
       "3           3  20180508  235608   4326      5             0.0            1.0   \n",
       "4           4  20180508  235643   4326      2             1.0            0.0   \n",
       "\n",
       "   Comprimento(m)  VelocidadePontual  \\\n",
       "0             3.2              142.0   \n",
       "1             0.0                0.0   \n",
       "2             0.0                0.0   \n",
       "3            19.1              119.0   \n",
       "4             3.2               42.0   \n",
       "\n",
       "                                           Descricao   Latitude  Longitude  \n",
       "0  Av. Alcântara Machado (Centro/Bairro) a mais 1... -23.549602 -46.605001  \n",
       "1  Av. Alcântara Machado (Centro/Bairro) a mais 1... -23.549602 -46.605001  \n",
       "2  Av. Alcântara Machado (Centro/Bairro) a mais 1... -23.549602 -46.605001  \n",
       "3  Av. Alcântara Machado (Centro/Bairro) a mais 1... -23.549602 -46.605001  \n",
       "4  Av. Alcântara Machado (Centro/Bairro) a mais 1... -23.549602 -46.605001  "
      ]
     },
     "metadata": {},
     "output_type": "display_data"
    }
   ],
   "source": [
    "df1=pd.read_csv(\"amostra_4326.csv\",\n",
    "                decimal='.')\n",
    "display(df1.head())"
   ]
  },
  {
   "cell_type": "markdown",
   "metadata": {},
   "source": [
    "É assim que os dados estão organizados, podemos obter mais informações a partir deles:\n",
    "\n",
    "`df.info()` nos fornece as colunas, qual o tipo de dados delas (float e int) e o uso de memória (33.6MB)\n",
    "\n",
    "`df.describe()` sumariza as estatísticas das colunas de valores numéricos:  quantidade, desvio padrão, média e quartis \n",
    "\n",
    "`df.columns` é um método, não termina com parêntesis (normalmente informam atributos da tabela), nos dá as colunas\n",
    "\n",
    "`df.shape` outro método, fornece as dimensões da tabela"
   ]
  },
  {
   "cell_type": "code",
   "execution_count": 4,
   "metadata": {
    "scrolled": false
   },
   "outputs": [
    {
     "name": "stdout",
     "output_type": "stream",
     "text": [
      "<class 'pandas.core.frame.DataFrame'>\n",
      "RangeIndex: 29921 entries, 0 to 29920\n",
      "Data columns (total 12 columns):\n",
      " #   Column             Non-Null Count  Dtype  \n",
      "---  ------             --------------  -----  \n",
      " 0   Unnamed: 0         29921 non-null  int64  \n",
      " 1   Data               29921 non-null  int64  \n",
      " 2   Hora               29921 non-null  int64  \n",
      " 3   Local              29921 non-null  int64  \n",
      " 4   Faixa              29921 non-null  int64  \n",
      " 5   EspecieVeiculo     29921 non-null  float64\n",
      " 6   ClasseVeiculo      29921 non-null  float64\n",
      " 7   Comprimento(m)     29921 non-null  float64\n",
      " 8   VelocidadePontual  29921 non-null  float64\n",
      " 9   Descricao          29921 non-null  object \n",
      " 10  Latitude           29921 non-null  float64\n",
      " 11  Longitude          29921 non-null  float64\n",
      "dtypes: float64(6), int64(5), object(1)\n",
      "memory usage: 2.7+ MB\n",
      "None\n",
      "================================================\n",
      "       VelocidadePontual  Comprimento(m)\n",
      "count       29921.000000    29921.000000\n",
      "mean           86.447512        3.494633\n",
      "std            25.715320        1.601845\n",
      "min             0.000000        0.000000\n",
      "25%            72.000000        3.300000\n",
      "50%            89.000000        3.500000\n",
      "75%           103.000000        3.700000\n",
      "max           281.000000       27.700000\n",
      "================================================\n",
      "Index(['Unnamed: 0', 'Data', 'Hora', 'Local', 'Faixa', 'EspecieVeiculo',\n",
      "       'ClasseVeiculo', 'Comprimento(m)', 'VelocidadePontual', 'Descricao',\n",
      "       'Latitude', 'Longitude'],\n",
      "      dtype='object')\n",
      "================================================\n",
      "(29921, 12)\n"
     ]
    }
   ],
   "source": [
    "print(df1.info())\n",
    "print('================================================')\n",
    "print(df1[['VelocidadePontual','Comprimento(m)']].describe())\n",
    "print('================================================')\n",
    "print(df1.columns)\n",
    "print('================================================')\n",
    "print(df1.shape)"
   ]
  },
  {
   "cell_type": "markdown",
   "metadata": {},
   "source": [
    "Pelo fato dos arquivos serem muito grandes, eles estão divididos em 2, logo os juntaremos"
   ]
  },
  {
   "cell_type": "code",
   "execution_count": 5,
   "metadata": {},
   "outputs": [],
   "source": [
    "# Importa os csvs agrupados\n",
    "\n",
    "df2=pd.read_csv(\"radares_20180906.csv\",\n",
    "                sep=';',\n",
    "                decimal='.')\n",
    "df2['Data']=pd.to_datetime(df2['Data'])\n",
    "\n",
    "# faça o mesmo para o outro arquivo \"radares_20180921.csv\"\n",
    "\n",
    "df3=pd.read_csv(\"radares_20180921.csv\",\n",
    "                sep=';',\n",
    "                decimal='.')\n",
    "df3['Data']=pd.to_datetime(df3['Data'])"
   ]
  },
  {
   "cell_type": "markdown",
   "metadata": {},
   "source": [
    "Aqui foi possível ver os Argumentos de palavra-chave em ação. O csv aqui é separado por semi-vígulas, e temos que informar isso à função (`sep = ';'`)"
   ]
  },
  {
   "cell_type": "code",
   "execution_count": 6,
   "metadata": {},
   "outputs": [],
   "source": [
    "# Transforma as datas em dias consecutivos, para transformá-los em dados de manipulação mais fácil\n",
    "df2['Data']=df2['Data'].apply(lambda x: x.replace(month=1, day=2, hour=x.hour, minute=x.minute, second=x.second))\n",
    "df3['Data']=df3['Data'].apply(lambda x: x.replace(month=1, day=3, hour=x.hour, minute=x.minute, second=x.second))"
   ]
  },
  {
   "cell_type": "markdown",
   "metadata": {},
   "source": [
    "## Agrupando os dois dias num único dataframe\n",
    "Um \"Dataframe\" é um formato de apresentação de dados muito parecido com o do Excel, mas pensado para as necessidade e limitações da Ciência de Dados\n",
    "\n",
    "Nessa etapa, iremos junta-los e dar uma olhada.\n"
   ]
  },
  {
   "cell_type": "code",
   "execution_count": 12,
   "metadata": {
    "scrolled": false
   },
   "outputs": [
    {
     "data": {
      "text/html": [
       "<div>\n",
       "<style scoped>\n",
       "    .dataframe tbody tr th:only-of-type {\n",
       "        vertical-align: middle;\n",
       "    }\n",
       "\n",
       "    .dataframe tbody tr th {\n",
       "        vertical-align: top;\n",
       "    }\n",
       "\n",
       "    .dataframe thead th {\n",
       "        text-align: right;\n",
       "    }\n",
       "</style>\n",
       "<table border=\"1\" class=\"dataframe\">\n",
       "  <thead>\n",
       "    <tr style=\"text-align: right;\">\n",
       "      <th></th>\n",
       "      <th>Data</th>\n",
       "      <th>Local</th>\n",
       "      <th>VelMed</th>\n",
       "      <th>Qtde</th>\n",
       "    </tr>\n",
       "  </thead>\n",
       "  <tbody>\n",
       "    <tr>\n",
       "      <th>0</th>\n",
       "      <td>2018-01-02 00:00:00</td>\n",
       "      <td>2400.0</td>\n",
       "      <td>116.181818</td>\n",
       "      <td>11</td>\n",
       "    </tr>\n",
       "    <tr>\n",
       "      <th>1</th>\n",
       "      <td>2018-01-02 00:00:00</td>\n",
       "      <td>2401.0</td>\n",
       "      <td>58.666667</td>\n",
       "      <td>9</td>\n",
       "    </tr>\n",
       "    <tr>\n",
       "      <th>2</th>\n",
       "      <td>2018-01-02 00:00:00</td>\n",
       "      <td>2402.0</td>\n",
       "      <td>97.250000</td>\n",
       "      <td>5</td>\n",
       "    </tr>\n",
       "    <tr>\n",
       "      <th>3</th>\n",
       "      <td>2018-01-02 00:00:00</td>\n",
       "      <td>2403.0</td>\n",
       "      <td>101.000000</td>\n",
       "      <td>6</td>\n",
       "    </tr>\n",
       "    <tr>\n",
       "      <th>4</th>\n",
       "      <td>2018-01-02 00:00:00</td>\n",
       "      <td>2404.0</td>\n",
       "      <td>107.857143</td>\n",
       "      <td>7</td>\n",
       "    </tr>\n",
       "    <tr>\n",
       "      <th>...</th>\n",
       "      <td>...</td>\n",
       "      <td>...</td>\n",
       "      <td>...</td>\n",
       "      <td>...</td>\n",
       "    </tr>\n",
       "    <tr>\n",
       "      <th>1101638</th>\n",
       "      <td>2018-01-03 23:57:00</td>\n",
       "      <td>7166.0</td>\n",
       "      <td>144.333333</td>\n",
       "      <td>6</td>\n",
       "    </tr>\n",
       "    <tr>\n",
       "      <th>1101639</th>\n",
       "      <td>2018-01-03 23:57:00</td>\n",
       "      <td>7168.0</td>\n",
       "      <td>115.428571</td>\n",
       "      <td>7</td>\n",
       "    </tr>\n",
       "    <tr>\n",
       "      <th>1101640</th>\n",
       "      <td>2018-01-03 23:57:00</td>\n",
       "      <td>7172.0</td>\n",
       "      <td>67.000000</td>\n",
       "      <td>13</td>\n",
       "    </tr>\n",
       "    <tr>\n",
       "      <th>1101641</th>\n",
       "      <td>2018-01-03 23:57:00</td>\n",
       "      <td>7176.0</td>\n",
       "      <td>183.000000</td>\n",
       "      <td>1</td>\n",
       "    </tr>\n",
       "    <tr>\n",
       "      <th>1101642</th>\n",
       "      <td>2018-01-03 23:57:00</td>\n",
       "      <td>7178.0</td>\n",
       "      <td>65.857143</td>\n",
       "      <td>7</td>\n",
       "    </tr>\n",
       "  </tbody>\n",
       "</table>\n",
       "<p>1065579 rows × 4 columns</p>\n",
       "</div>"
      ],
      "text/plain": [
       "                       Data   Local      VelMed  Qtde\n",
       "0       2018-01-02 00:00:00  2400.0  116.181818    11\n",
       "1       2018-01-02 00:00:00  2401.0   58.666667     9\n",
       "2       2018-01-02 00:00:00  2402.0   97.250000     5\n",
       "3       2018-01-02 00:00:00  2403.0  101.000000     6\n",
       "4       2018-01-02 00:00:00  2404.0  107.857143     7\n",
       "...                     ...     ...         ...   ...\n",
       "1101638 2018-01-03 23:57:00  7166.0  144.333333     6\n",
       "1101639 2018-01-03 23:57:00  7168.0  115.428571     7\n",
       "1101640 2018-01-03 23:57:00  7172.0   67.000000    13\n",
       "1101641 2018-01-03 23:57:00  7176.0  183.000000     1\n",
       "1101642 2018-01-03 23:57:00  7178.0   65.857143     7\n",
       "\n",
       "[1065579 rows x 4 columns]"
      ]
     },
     "metadata": {},
     "output_type": "display_data"
    },
    {
     "data": {
      "text/html": [
       "<div>\n",
       "<style scoped>\n",
       "    .dataframe tbody tr th:only-of-type {\n",
       "        vertical-align: middle;\n",
       "    }\n",
       "\n",
       "    .dataframe tbody tr th {\n",
       "        vertical-align: top;\n",
       "    }\n",
       "\n",
       "    .dataframe thead th {\n",
       "        text-align: right;\n",
       "    }\n",
       "</style>\n",
       "<table border=\"1\" class=\"dataframe\">\n",
       "  <thead>\n",
       "    <tr style=\"text-align: right;\">\n",
       "      <th></th>\n",
       "      <th>Data</th>\n",
       "      <th>Local</th>\n",
       "      <th>VelMed</th>\n",
       "      <th>Qtde</th>\n",
       "    </tr>\n",
       "  </thead>\n",
       "  <tbody>\n",
       "    <tr>\n",
       "      <th>0</th>\n",
       "      <td>2018-01-02</td>\n",
       "      <td>2400.0</td>\n",
       "      <td>116.181818</td>\n",
       "      <td>11</td>\n",
       "    </tr>\n",
       "    <tr>\n",
       "      <th>1</th>\n",
       "      <td>2018-01-02</td>\n",
       "      <td>2401.0</td>\n",
       "      <td>58.666667</td>\n",
       "      <td>9</td>\n",
       "    </tr>\n",
       "    <tr>\n",
       "      <th>2</th>\n",
       "      <td>2018-01-02</td>\n",
       "      <td>2402.0</td>\n",
       "      <td>97.250000</td>\n",
       "      <td>5</td>\n",
       "    </tr>\n",
       "    <tr>\n",
       "      <th>3</th>\n",
       "      <td>2018-01-02</td>\n",
       "      <td>2403.0</td>\n",
       "      <td>101.000000</td>\n",
       "      <td>6</td>\n",
       "    </tr>\n",
       "    <tr>\n",
       "      <th>4</th>\n",
       "      <td>2018-01-02</td>\n",
       "      <td>2404.0</td>\n",
       "      <td>107.857143</td>\n",
       "      <td>7</td>\n",
       "    </tr>\n",
       "  </tbody>\n",
       "</table>\n",
       "</div>"
      ],
      "text/plain": [
       "        Data   Local      VelMed  Qtde\n",
       "0 2018-01-02  2400.0  116.181818    11\n",
       "1 2018-01-02  2401.0   58.666667     9\n",
       "2 2018-01-02  2402.0   97.250000     5\n",
       "3 2018-01-02  2403.0  101.000000     6\n",
       "4 2018-01-02  2404.0  107.857143     7"
      ]
     },
     "metadata": {},
     "output_type": "display_data"
    }
   ],
   "source": [
    "# Consolida os dois dias em um unico dataframe\n",
    "df = pd.concat([df2,df3],axis=0).reset_index(drop=True)\n",
    "\n",
    "df.dropna(inplace=True)\n",
    "\n",
    "display(df), display(df.head(n=5));\n",
    "# Troque o valor de n para ver quantas linhas do topo desejar, o padrão é n=5"
   ]
  },
  {
   "cell_type": "markdown",
   "metadata": {},
   "source": [
    "Com 4 colunas e mais de 1 milhão de linhas, aí estão os nossos dados"
   ]
  },
  {
   "cell_type": "markdown",
   "metadata": {},
   "source": [
    "## Plotando o seu primeiro gráfico\n",
    "\n",
    "O histograma que faremos a seguir concentra a frequência que uma variável ocorre em uma barra.\n",
    "\n",
    "No eixo x estão as velocidades, e no y a frequência com que cada uma delas ocorre"
   ]
  },
  {
   "cell_type": "code",
   "execution_count": 13,
   "metadata": {},
   "outputs": [
    {
     "data": {
      "image/png": "[encoded data removed]",
      "text/plain": [
       "<Figure size 720x360 with 1 Axes>"
      ]
     },
     "metadata": {
      "needs_background": "light"
     },
     "output_type": "display_data"
    }
   ],
   "source": [
    "plt.rcParams.update({'figure.figsize':(6,3), 'figure.dpi':120})\n",
    "\n",
    "plt.hist(df['VelMed'],bins=15, range=(0,150)) # com df['VelMed'], estamos selecionando apenas essa coluna das 4\n",
    "plt.ylabel('Frenquência de ocorrência')\n",
    "plt.xlabel('Velocidade média medida pelo radar (km/h)')\n",
    "plt.tight_layout()\n",
    "plt.show()"
   ]
  },
  {
   "cell_type": "markdown",
   "metadata": {},
   "source": [
    "No nosso dataset, é possível concluir que as velocidade médias se concentram entre 70 e 120 km/h (mais de 500000 veículos!)\n",
    "\n",
    "Mas, caso queira tirar o argumento `range=(0,150)`, mostra que há ocorrências de velocidades de 1000 km/h! Claramente são falhas de medição do radar, os famosos **outliers**\n",
    "\n",
    "Para lidar com eles, existe outro gráfico, o boxplot, formado pelo primeiro e terceiro quartil (limites da caixa) e pela mediana (risco do meio). Os valores fora das hastes são outliers\n",
    "\n",
    "Para mais do boxplot, [cliquei aqui](http://www.portalaction.com.br/estatistica-basica/31-boxplot)"
   ]
  },
  {
   "cell_type": "code",
   "execution_count": null,
   "metadata": {},
   "outputs": [],
   "source": [
    "df['VelMed'].plot(kind='box');\n",
    "plt.show()"
   ]
  },
  {
   "cell_type": "markdown",
   "metadata": {},
   "source": [
    "Apesar de parecerem muitos os outliers, que são velocidades negativas ou acima de 170 km/h, temos tantos dados que esses poucos absurdos não serão problema"
   ]
  },
  {
   "cell_type": "markdown",
   "metadata": {},
   "source": [
    "<a id='cell'></a>\n",
    "## Seleção do radar e hora a serem previstos\n",
    "\n",
    "A partir de agora vamos pensar no modelo\n",
    "\n",
    "Pensando ter uma previsão mais precisa, vamos modelar o tráfego de apenas uma via, a Av. Alcântara Machado, sentido Centro/Bairro. Com os seus dados históricos, tentaremos estimar o fluxo dos próximos 45 minutos (que já é uma grande dificuldade)\n",
    "\n",
    "Para tal, selecionamos o radar referente à essa via ( _4326_ ) e dividimos os dataframe em 2 partes:\n",
    "- Treino: sobre os quais o modelo se baseia para as previsçoes;\n",
    "- Teste: que serve para validação, avaliar qual o erro dessa previsão\n",
    "\n",
    "\n"
   ]
  },
  {
   "cell_type": "code",
   "execution_count": null,
   "metadata": {},
   "outputs": [],
   "source": [
    "# Seleciona um único radar e horário para realizar a previsão\n",
    "radar = 4326\n",
    "hora = '13:00:00'\n",
    "\n",
    "df_rad = df[df['Local']==4326].reset_index(drop=True)\n",
    "\n",
    "division = df_rad.loc[df_rad['Data']=='2018-01-03 ' + hora].index[0]\n",
    "start = division - 100\n",
    "\n",
    "# Separa em treino e validação\n",
    "treino = df_rad.loc[start:division]\n",
    "teste  = df_rad.loc[division:]"
   ]
  },
  {
   "cell_type": "markdown",
   "metadata": {},
   "source": [
    "> _Ao fim desse roteiro será recomendado para você testar a previsão em outros horários do dia. A variável que deverá ser alterada é `hora`, para qualquer hora cheia_\n",
    "\n"
   ]
  },
  {
   "cell_type": "markdown",
   "metadata": {},
   "source": [
    "## Determinação dos parâmetros do ARIMA"
   ]
  },
  {
   "cell_type": "markdown",
   "metadata": {},
   "source": [
    "### Checar se a série é estacionária"
   ]
  },
  {
   "cell_type": "markdown",
   "metadata": {},
   "source": [
    "A série estacionária é condição _sine qua non_ para a aplicação do método; caso nao for, é possível utilizar a diferenciação da série - quantas vezes forem necessárias -  para torná-la estacionária. Escolhido o radar, observa-se se a série pode ser considerada estacionária (p-value inferior a 0.05) por meio do teste de Dickey-Fuller aumentado (ADF)."
   ]
  },
  {
   "cell_type": "code",
   "execution_count": null,
   "metadata": {},
   "outputs": [],
   "source": [
    "result = adfuller(df_rad.Qtde)\n",
    "print('ADF Statistic: %f' % result[0])\n",
    "print('p-value: %f' % result[1])"
   ]
  },
  {
   "cell_type": "markdown",
   "metadata": {},
   "source": [
    "Por isso, não será realizado nenhuma diferenciação. No entanto, faremos a validação visual para certificar-nos do resultado apontado pelo teste ADF."
   ]
  },
  {
   "cell_type": "markdown",
   "metadata": {},
   "source": [
    "### Validação Visual\n",
    "\n",
    "Para validar visualmente o resultado do teste ADF, plotamos funções de autocorrelação para a série original, com diferenciação de primeira e de segunda ordem. \n",
    "\n",
    "Espera-se que a série original tenha uma curva da Função de Autocorrelação (ACF) decrescente enquanto as outras possuam uma queda abrupta pois, segundo o teste ADF, elas já serão diferenciadas."
   ]
  },
  {
   "cell_type": "code",
   "execution_count": null,
   "metadata": {
    "scrolled": false
   },
   "outputs": [],
   "source": [
    "plt.rcParams.update({'figure.figsize':(9,7), 'figure.dpi':120})\n",
    "fig, axes = plt.subplots(3, 2, sharex=False)\n",
    "\n",
    "# Original Series\n",
    "axes[0, 0].plot(df_rad.Qtde); axes[0, 0].set_title('Original Series')\n",
    "plot_acf(df_rad.Qtde, ax=axes[0, 1], alpha=0.05, lags=100)\n",
    "\n",
    "# 1st Differencing\n",
    "axes[1, 0].plot(df_rad.Qtde.diff()); axes[1, 0].set_title('1st Order Differencing')\n",
    "plot_acf(df_rad.Qtde.diff().dropna(), ax=axes[1, 1])\n",
    "\n",
    "# 2nd Differencing\n",
    "axes[2, 0].plot(df_rad.Qtde.diff().diff()); axes[2, 0].set_title('2nd Order Differencing')\n",
    "plot_acf(df_rad.Qtde.diff().diff().dropna(), ax=axes[2, 1])\n",
    "\n",
    "plt.tight_layout()\n",
    "plt.show()"
   ]
  },
  {
   "cell_type": "markdown",
   "metadata": {},
   "source": [
    "Os plots mostram que na primeira diferenciação, a série já se torna super diferenciada (o que pode ser notado pela queda abrupta na curva de autocorrelação). Isso indica que o parâmetro d=0 é realmente o ideal"
   ]
  },
  {
   "cell_type": "markdown",
   "metadata": {},
   "source": [
    "### Ordem da Auto-Regressão\n",
    "\n",
    "Por se tratar de uma regressão feita sobre os valores anteriores da série, deve-se ver até que ponto há correlação entre os pontos de observação. Isso é definido através da Função de Autocorrelação Parcial (PACF)."
   ]
  },
  {
   "cell_type": "code",
   "execution_count": null,
   "metadata": {},
   "outputs": [],
   "source": [
    "# PACF\n",
    "plt.rcParams.update({'figure.figsize':(9,7), 'figure.dpi':120})\n",
    "\n",
    "fig, axes = plt.subplots(2, 1, sharex=False)\n",
    "axes[0].plot(df_rad.Qtde); axes[0].set_title('Series')\n",
    "axes[1].set(ylim=(0,1.05))\n",
    "plot_pacf(df_rad.Qtde, ax=axes[1], lags= 100)\n",
    "\n",
    "plt.show()"
   ]
  },
  {
   "cell_type": "markdown",
   "metadata": {},
   "source": [
    "Pelo gráfico devemos observar até que ponto a correlação está acima do nível de confiança, adotado em 95%.\n",
    "\n",
    "Desconsiderando o primeiro (já que a autocorrelação parcial com o primeiro ponto da série é consigo mesmo, ou seja, sempre PACF=1), podemos ver que os quatro pontos seguintes possuem correlação acima do nível de confiança exigido (delimitado pela área azul). Por isso, utilizaremos p=4."
   ]
  },
  {
   "cell_type": "markdown",
   "metadata": {},
   "source": [
    "### Ordem da Média-Móvel\n",
    "\n",
    "O plot da ACF fornece um threshold, um limite, superior para o ordem do modelo MA. "
   ]
  },
  {
   "cell_type": "code",
   "execution_count": null,
   "metadata": {},
   "outputs": [],
   "source": [
    "fig, axes = plt.subplots(2,1, sharex=False)\n",
    "\n",
    "\n",
    "axes[0].plot(df_rad.Qtde); axes[0].set_title('Series')\n",
    "axes[1].set(ylim=(0,1.2), xlim=(0,60))\n",
    "plot_acf(df_rad.Qtde, ax=axes[1], lags=100)\n",
    "\n",
    "\n",
    "plt.annotate('Entra na área de significância', xytext=(30, 1),xy=(43,0.4),arrowprops=dict(facecolor='black', shrink=0.05))\n",
    "plt.show()"
   ]
  },
  {
   "cell_type": "markdown",
   "metadata": {},
   "source": [
    "A autocorrelação decai muito lentamente para a série em questão. \n",
    "\n",
    "\n",
    "Isso nos daria um treshold máximo da ordem de 40. No entanto, vale ressaltar que esse valor pode ser muito elevado, então deve-se sempre levar em conta tanto o fator de **performance do modelo** quanto **custo computacional**, evitando o uso de parâmetros muito elevados em quaisquer modelos.\n",
    "\n",
    "Nos modelos ARIMA, a componente de média móvel raramente ultrapassa 3 ou 4. Por isso, utilizaremos o valor 1 para manter o modelo simples."
   ]
  },
  {
   "cell_type": "markdown",
   "metadata": {},
   "source": [
    "## Construção do modelo e previsão"
   ]
  },
  {
   "cell_type": "code",
   "execution_count": null,
   "metadata": {},
   "outputs": [],
   "source": [
    "# De_para para mostrar a localizacao do radar\n",
    "de_para = pd.read_csv('de_para.csv')"
   ]
  },
  {
   "cell_type": "markdown",
   "metadata": {},
   "source": [
    "Vamos criar nosso modelo com os parâmetros que encontramos (p,d,q) = (4,0,1)"
   ]
  },
  {
   "cell_type": "code",
   "execution_count": null,
   "metadata": {},
   "outputs": [],
   "source": [
    "p = 4 #Autoregressao\n",
    "d = 0 #Diferenciacao\n",
    "q = 1 #MediaMovel\n",
    "steps = 15 # Steps a serem previstos\n",
    "\n",
    "teste=teste[:steps]\n",
    "\n",
    "# Istancia o modelo e faz o fit no treino\n",
    "model = ARIMA(treino['Qtde'],order=(p,d,q))\n",
    "model_fit=model.fit(disp=-1)\n",
    "\n",
    "# Realiza FORECAST\n",
    "fc, se, conf = model_fit.forecast(steps, alpha=0.05)  # 95% conf"
   ]
  },
  {
   "cell_type": "code",
   "execution_count": null,
   "metadata": {
    "scrolled": false
   },
   "outputs": [],
   "source": [
    "fc_series = pd.Series(fc, index=teste.index)\n",
    "\n",
    "lower_series = pd.Series(conf[:, 0], index=teste.Data)\n",
    "upper_series = pd.Series(conf[:, 1], index=teste.Data)\n",
    "\n",
    "# Plot\n",
    "fig, ax = plt.subplots(figsize=(12, 5))\n",
    "ax.plot(treino['Data'], treino['Qtde'], label='Observações de fato, usadas para treino')\n",
    "ax.plot(teste['Data'], teste['Qtde'], label='Comportamento de fato, após %s h'%hora)\n",
    "ax.plot(teste['Data'], fc_series, label='ARIMA')\n",
    "ax.xaxis.set_major_formatter(mdates.DateFormatter('%H:%M'))\n",
    "plt.fill_between(lower_series.index, lower_series, upper_series, \n",
    "                  color='k', alpha=.15)\n",
    "plt.title('Local: '+str(de_para.loc[de_para['Local']==radar,'Descricao'].reset_index(drop=True)[0])+' / Hora: '+hora)\n",
    "plt.legend(loc='upper left', fontsize=10)\n",
    "plt.show()"
   ]
  },
  {
   "cell_type": "markdown",
   "metadata": {},
   "source": [
    "A legenda para as linhas do gráfico é autoexplicativa. \n",
    "\n",
    "Ademais, a área cinza é o intervalo de confiança da previsão,lembre-se, 95%, ou seja, a probabilidade da previsão estar *fora* dessa área é de 5%. A confiança pode ser alterada mudando o valor em `forecast`->`alpha=x` com x entre 0 e 1 (duas células acima)"
   ]
  },
  {
   "cell_type": "markdown",
   "metadata": {},
   "source": [
    "## Considerações Finais\n",
    "\n",
    "Conseguimos, por fim, estimar o tráfego da via em questão no horário desejado, mas é possível prever em outras condições como, por exemplo, em outra [hora](#cell) do dia (tente para as 19:00 e 12:00, veja as diferenças das previsões)\n",
    "\n",
    "\n",
    "- **A qualidade da previsão é comprometida quando o comportamento que queremos prever (dados de teste) é muito mais variável do que o comportamento que o algoritmo está observando (dados de treino)**, casos em que há variação muito abrupta do volume de tráfego. Assim, o treino reduzido (100 lags) torna a previsão impossível.\n",
    "\n",
    "- Outro fato observado é que **as previsões para radares com menor volume de tráfego são mais imprecisas**. Isso deve-se ao fato que a **variação relativa** nesses locais é mais crítica que a variação em pontos mais movimentados. Por exemplo, num cenário onde o volume médio é de _20 veículos a cada 3 minutos_ , a variação de 2 veículos representa um incremento de **10%**. Caso o volume médio fosse de _2 veículos a cada 3 minutos_ , a alteração seria de **100%**. Isso torna a série histórica mais volátil e, portanto, mais difícil de se prever.\n",
    "\n",
    "# Obrigado\n"
   ]
  }
 ],
 "metadata": {
  "kernelspec": {
   "display_name": "Python 3",
   "language": "python",
   "name": "python3"
  },
  "language_info": {
   "codemirror_mode": {
    "name": "ipython",
    "version": 3
   },
   "file_extension": ".py",
   "mimetype": "text/x-python",
   "name": "python",
   "nbconvert_exporter": "python",
   "pygments_lexer": "ipython3",
   "version": "3.7.6"
  },
  "widgets": {
   "application/vnd.jupyter.widget-state+json": {
    "state": {},
    "version_major": 2,
    "version_minor": 0
   }
  }
 },
 "nbformat": 4,
 "nbformat_minor": 2
}
